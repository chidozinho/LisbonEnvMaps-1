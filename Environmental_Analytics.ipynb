{
 "cells": [
  {
   "cell_type": "code",
   "execution_count": 1,
   "id": "59ad88d1",
   "metadata": {},
   "outputs": [],
   "source": [
    "#testing data\n",
    "import pandas as pd"
   ]
  },
  {
   "cell_type": "code",
   "execution_count": 5,
   "id": "3479505f",
   "metadata": {},
   "outputs": [
    {
     "data": {
      "text/html": [
       "<div>\n",
       "<style scoped>\n",
       "    .dataframe tbody tr th:only-of-type {\n",
       "        vertical-align: middle;\n",
       "    }\n",
       "\n",
       "    .dataframe tbody tr th {\n",
       "        vertical-align: top;\n",
       "    }\n",
       "\n",
       "    .dataframe thead th {\n",
       "        text-align: right;\n",
       "    }\n",
       "</style>\n",
       "<table border=\"1\" class=\"dataframe\">\n",
       "  <thead>\n",
       "    <tr style=\"text-align: right;\">\n",
       "      <th></th>\n",
       "      <th>id</th>\n",
       "      <th>avg</th>\n",
       "      <th>date</th>\n",
       "      <th>dateStandard</th>\n",
       "      <th>value</th>\n",
       "      <th>unit</th>\n",
       "      <th>address</th>\n",
       "      <th>coordinates</th>\n",
       "      <th>directions</th>\n",
       "    </tr>\n",
       "  </thead>\n",
       "  <tbody>\n",
       "    <tr>\n",
       "      <th>0</th>\n",
       "      <td>QA00NO0001</td>\n",
       "      <td>1h</td>\n",
       "      <td>1976-05-29 07:14:40.900</td>\n",
       "      <td>UTC</td>\n",
       "      <td>67.0</td>\n",
       "      <td>µg/m3</td>\n",
       "      <td>Calçada da Ajuda</td>\n",
       "      <td>{'x': -92781, 'y': -106663, 'z': 0, 'lat': 38....</td>\n",
       "      <td>NaN</td>\n",
       "    </tr>\n",
       "    <tr>\n",
       "      <th>1</th>\n",
       "      <td>QA0NO20001</td>\n",
       "      <td>1h</td>\n",
       "      <td>1976-05-29 07:14:40.900</td>\n",
       "      <td>UTC</td>\n",
       "      <td>59.0</td>\n",
       "      <td>µg/m3</td>\n",
       "      <td>Calçada da Ajuda</td>\n",
       "      <td>{'x': -92781, 'y': -106663, 'z': 0, 'lat': 38....</td>\n",
       "      <td>NaN</td>\n",
       "    </tr>\n",
       "    <tr>\n",
       "      <th>2</th>\n",
       "      <td>QA00O30001</td>\n",
       "      <td>1h</td>\n",
       "      <td>1976-05-29 07:14:40.900</td>\n",
       "      <td>UTC</td>\n",
       "      <td>51.0</td>\n",
       "      <td>µg/m3</td>\n",
       "      <td>Calçada da Ajuda</td>\n",
       "      <td>{'x': -92781, 'y': -106663, 'z': 0, 'lat': 38....</td>\n",
       "      <td>NaN</td>\n",
       "    </tr>\n",
       "    <tr>\n",
       "      <th>3</th>\n",
       "      <td>QAPM250001</td>\n",
       "      <td>1h</td>\n",
       "      <td>1976-05-29 07:14:40.900</td>\n",
       "      <td>UTC</td>\n",
       "      <td>6.0</td>\n",
       "      <td>µg/m3</td>\n",
       "      <td>Calçada da Ajuda</td>\n",
       "      <td>{'x': -92781, 'y': -106663, 'z': 0, 'lat': 38....</td>\n",
       "      <td>NaN</td>\n",
       "    </tr>\n",
       "    <tr>\n",
       "      <th>4</th>\n",
       "      <td>QAPM100001</td>\n",
       "      <td>1h</td>\n",
       "      <td>1976-05-29 07:14:40.900</td>\n",
       "      <td>UTC</td>\n",
       "      <td>17.0</td>\n",
       "      <td>µg/m3</td>\n",
       "      <td>Calçada da Ajuda</td>\n",
       "      <td>{'x': -92781, 'y': -106663, 'z': 0, 'lat': 38....</td>\n",
       "      <td>NaN</td>\n",
       "    </tr>\n",
       "    <tr>\n",
       "      <th>...</th>\n",
       "      <td>...</td>\n",
       "      <td>...</td>\n",
       "      <td>...</td>\n",
       "      <td>...</td>\n",
       "      <td>...</td>\n",
       "      <td>...</td>\n",
       "      <td>...</td>\n",
       "      <td>...</td>\n",
       "      <td>...</td>\n",
       "    </tr>\n",
       "    <tr>\n",
       "      <th>632</th>\n",
       "      <td>ME00HR0076</td>\n",
       "      <td>1h</td>\n",
       "      <td>1976-05-29 07:14:42.200</td>\n",
       "      <td>UTC</td>\n",
       "      <td>69.4</td>\n",
       "      <td>%</td>\n",
       "      <td>Restauradores - Avenida da Liberdade</td>\n",
       "      <td>{'x': -87781.5819006, 'y': -105178.68474, 'z':...</td>\n",
       "      <td>NaN</td>\n",
       "    </tr>\n",
       "    <tr>\n",
       "      <th>633</th>\n",
       "      <td>METEMP0076</td>\n",
       "      <td>1h</td>\n",
       "      <td>1976-05-29 07:14:42.200</td>\n",
       "      <td>UTC</td>\n",
       "      <td>14.4</td>\n",
       "      <td>ºC</td>\n",
       "      <td>Restauradores - Avenida da Liberdade</td>\n",
       "      <td>{'x': -87781.5819006, 'y': -105178.68474, 'z':...</td>\n",
       "      <td>NaN</td>\n",
       "    </tr>\n",
       "    <tr>\n",
       "      <th>634</th>\n",
       "      <td>CT0VTH0076</td>\n",
       "      <td>1h</td>\n",
       "      <td>1976-05-29 07:14:42.000</td>\n",
       "      <td>UTC</td>\n",
       "      <td>424.0</td>\n",
       "      <td>Veículos</td>\n",
       "      <td>Restauradores - Avenida da Liberdade</td>\n",
       "      <td>{'x': -87781.5819006, 'y': -105178.68474, 'z':...</td>\n",
       "      <td>{'from-to': {'direction': 'Marques de Pombal -...</td>\n",
       "    </tr>\n",
       "    <tr>\n",
       "      <th>635</th>\n",
       "      <td>CT0VTH1027</td>\n",
       "      <td>1h</td>\n",
       "      <td>1976-05-29 07:14:42.000</td>\n",
       "      <td>UTC</td>\n",
       "      <td>4267.0</td>\n",
       "      <td>Veículos</td>\n",
       "      <td>Avenida Eng. Duarte Pacheco</td>\n",
       "      <td>{'x': -88532.0078, 'y': -104119, 'z': 0, 'lat'...</td>\n",
       "      <td>{'from-to': {'direction': 'Viaduto Eng. Duarte...</td>\n",
       "    </tr>\n",
       "    <tr>\n",
       "      <th>636</th>\n",
       "      <td>CT0VTH1079</td>\n",
       "      <td>1h</td>\n",
       "      <td>1976-05-29 07:14:42.000</td>\n",
       "      <td>UTC</td>\n",
       "      <td>1351.0</td>\n",
       "      <td>Veículos</td>\n",
       "      <td>Avenida de Berlim</td>\n",
       "      <td>{'x': -84666.8, 'y': -99295.3, 'z': 0, 'lat': ...</td>\n",
       "      <td>{'from-to': {'direction': 'Parque das Naçoes -...</td>\n",
       "    </tr>\n",
       "  </tbody>\n",
       "</table>\n",
       "<p>637 rows × 9 columns</p>\n",
       "</div>"
      ],
      "text/plain": [
       "             id avg                    date dateStandard   value      unit  \\\n",
       "0    QA00NO0001  1h 1976-05-29 07:14:40.900          UTC    67.0     µg/m3   \n",
       "1    QA0NO20001  1h 1976-05-29 07:14:40.900          UTC    59.0     µg/m3   \n",
       "2    QA00O30001  1h 1976-05-29 07:14:40.900          UTC    51.0     µg/m3   \n",
       "3    QAPM250001  1h 1976-05-29 07:14:40.900          UTC     6.0     µg/m3   \n",
       "4    QAPM100001  1h 1976-05-29 07:14:40.900          UTC    17.0     µg/m3   \n",
       "..          ...  ..                     ...          ...     ...       ...   \n",
       "632  ME00HR0076  1h 1976-05-29 07:14:42.200          UTC    69.4         %   \n",
       "633  METEMP0076  1h 1976-05-29 07:14:42.200          UTC    14.4        ºC   \n",
       "634  CT0VTH0076  1h 1976-05-29 07:14:42.000          UTC   424.0  Veículos   \n",
       "635  CT0VTH1027  1h 1976-05-29 07:14:42.000          UTC  4267.0  Veículos   \n",
       "636  CT0VTH1079  1h 1976-05-29 07:14:42.000          UTC  1351.0  Veículos   \n",
       "\n",
       "                                  address  \\\n",
       "0                        Calçada da Ajuda   \n",
       "1                        Calçada da Ajuda   \n",
       "2                        Calçada da Ajuda   \n",
       "3                        Calçada da Ajuda   \n",
       "4                        Calçada da Ajuda   \n",
       "..                                    ...   \n",
       "632  Restauradores - Avenida da Liberdade   \n",
       "633  Restauradores - Avenida da Liberdade   \n",
       "634  Restauradores - Avenida da Liberdade   \n",
       "635           Avenida Eng. Duarte Pacheco   \n",
       "636                     Avenida de Berlim   \n",
       "\n",
       "                                           coordinates  \\\n",
       "0    {'x': -92781, 'y': -106663, 'z': 0, 'lat': 38....   \n",
       "1    {'x': -92781, 'y': -106663, 'z': 0, 'lat': 38....   \n",
       "2    {'x': -92781, 'y': -106663, 'z': 0, 'lat': 38....   \n",
       "3    {'x': -92781, 'y': -106663, 'z': 0, 'lat': 38....   \n",
       "4    {'x': -92781, 'y': -106663, 'z': 0, 'lat': 38....   \n",
       "..                                                 ...   \n",
       "632  {'x': -87781.5819006, 'y': -105178.68474, 'z':...   \n",
       "633  {'x': -87781.5819006, 'y': -105178.68474, 'z':...   \n",
       "634  {'x': -87781.5819006, 'y': -105178.68474, 'z':...   \n",
       "635  {'x': -88532.0078, 'y': -104119, 'z': 0, 'lat'...   \n",
       "636  {'x': -84666.8, 'y': -99295.3, 'z': 0, 'lat': ...   \n",
       "\n",
       "                                            directions  \n",
       "0                                                  NaN  \n",
       "1                                                  NaN  \n",
       "2                                                  NaN  \n",
       "3                                                  NaN  \n",
       "4                                                  NaN  \n",
       "..                                                 ...  \n",
       "632                                                NaN  \n",
       "633                                                NaN  \n",
       "634  {'from-to': {'direction': 'Marques de Pombal -...  \n",
       "635  {'from-to': {'direction': 'Viaduto Eng. Duarte...  \n",
       "636  {'from-to': {'direction': 'Parque das Naçoes -...  \n",
       "\n",
       "[637 rows x 9 columns]"
      ]
     },
     "execution_count": 5,
     "metadata": {},
     "output_type": "execute_result"
    }
   ],
   "source": [
    "URL = 'http://opendata-cml.qart.pt/lastmeasurements'\n",
    "#df = pd.read_json(URL, convert_dates = False)\n",
    "#df\n",
    "\n",
    "df = pd.read_json('http://opendata-cml.qart.pt/lastmeasurements')\n",
    "df"
   ]
  },
  {
   "cell_type": "code",
   "execution_count": 14,
   "id": "cedd36bd",
   "metadata": {},
   "outputs": [
    {
     "ename": "OSError",
     "evalue": "[Errno 22] Invalid argument: 'http://opendata-cml.qart.pt/lastmeasurements'",
     "output_type": "error",
     "traceback": [
      "\u001b[1;31m---------------------------------------------------------------------------\u001b[0m",
      "\u001b[1;31mOSError\u001b[0m                                   Traceback (most recent call last)",
      "Input \u001b[1;32mIn [14]\u001b[0m, in \u001b[0;36m<module>\u001b[1;34m\u001b[0m\n\u001b[0;32m      1\u001b[0m \u001b[38;5;28;01mimport\u001b[39;00m \u001b[38;5;21;01mjson\u001b[39;00m\n\u001b[1;32m----> 2\u001b[0m \u001b[38;5;28;01mwith\u001b[39;00m \u001b[38;5;28;43mopen\u001b[39;49m\u001b[43m(\u001b[49m\u001b[38;5;124;43m'\u001b[39;49m\u001b[38;5;124;43mhttp://opendata-cml.qart.pt/lastmeasurements\u001b[39;49m\u001b[38;5;124;43m'\u001b[39;49m\u001b[43m)\u001b[49m \u001b[38;5;28;01mas\u001b[39;00m f:\n\u001b[0;32m      3\u001b[0m     data \u001b[38;5;241m=\u001b[39m json\u001b[38;5;241m.\u001b[39mloads(f\u001b[38;5;241m.\u001b[39mread())\n\u001b[0;32m      6\u001b[0m df_url \u001b[38;5;241m=\u001b[39m pd\u001b[38;5;241m.\u001b[39mjson_normalize(data, record_path \u001b[38;5;241m=\u001b[39m[\u001b[38;5;124m'\u001b[39m\u001b[38;5;124mcoordinates\u001b[39m\u001b[38;5;124m'\u001b[39m])\n",
      "\u001b[1;31mOSError\u001b[0m: [Errno 22] Invalid argument: 'http://opendata-cml.qart.pt/lastmeasurements'"
     ]
    }
   ],
   "source": [
    "import json\n",
    "with open('http://opendata-cml.qart.pt/lastmeasurements') as f:\n",
    "    data = json.loads(f.read())\n",
    "    \n",
    "    \n",
    "df_url = pd.json_normalize(data, record_path =['coordinates'])\n",
    "df_url\n"
   ]
  },
  {
   "cell_type": "code",
   "execution_count": 7,
   "id": "4eeb6b1a",
   "metadata": {},
   "outputs": [
    {
     "ename": "NameError",
     "evalue": "name 'data' is not defined",
     "output_type": "error",
     "traceback": [
      "\u001b[1;31m---------------------------------------------------------------------------\u001b[0m",
      "\u001b[1;31mNameError\u001b[0m                                 Traceback (most recent call last)",
      "Input \u001b[1;32mIn [7]\u001b[0m, in \u001b[0;36m<module>\u001b[1;34m\u001b[0m\n\u001b[1;32m----> 1\u001b[0m df_url \u001b[38;5;241m=\u001b[39m pd\u001b[38;5;241m.\u001b[39mjson_normalize(\u001b[43mdata\u001b[49m, record_path \u001b[38;5;241m=\u001b[39m[\u001b[38;5;124m'\u001b[39m\u001b[38;5;124mcoordinates\u001b[39m\u001b[38;5;124m'\u001b[39m])\n\u001b[0;32m      2\u001b[0m df_url\n\u001b[0;32m      3\u001b[0m data \u001b[38;5;241m=\u001b[39m json\u001b[38;5;241m.\u001b[39mloads(f\u001b[38;5;241m.\u001b[39mread())\n",
      "\u001b[1;31mNameError\u001b[0m: name 'data' is not defined"
     ]
    }
   ],
   "source": [
    "df_url = pd.json_normalize(data, record_path =['coordinates'])\n",
    "df_url\n",
    "data = json.loads(f.read())"
   ]
  },
  {
   "cell_type": "code",
   "execution_count": 7,
   "id": "f5f2ae41",
   "metadata": {},
   "outputs": [
    {
     "data": {
      "text/plain": [
       "{'x': -92781, 'y': -106663, 'z': 0, 'lat': 38.70263097, 'lng': -9.199692206}"
      ]
     },
     "execution_count": 7,
     "metadata": {},
     "output_type": "execute_result"
    }
   ],
   "source": [
    "df.iloc[1,7]\n"
   ]
  },
  {
   "cell_type": "code",
   "execution_count": null,
   "id": "34f0cb4a",
   "metadata": {},
   "outputs": [
    {
     "data": {
      "text/plain": [
       "85"
      ]
     },
     "execution_count": 25,
     "metadata": {},
     "output_type": "execute_result"
    }
   ],
   "source": [
    "len(str(text))"
   ]
  },
  {
   "cell_type": "code",
   "execution_count": null,
   "id": "ee4f1869",
   "metadata": {},
   "outputs": [
    {
     "data": {
      "text/plain": [
       "0      202202071600\n",
       "1      202202071600\n",
       "2      202202071600\n",
       "3      202202071600\n",
       "4      202202071600\n",
       "           ...     \n",
       "632    202202071500\n",
       "633    202202071500\n",
       "634    202202071400\n",
       "635    202202071400\n",
       "636    202202071400\n",
       "Name: date, Length: 637, dtype: int64"
      ]
     },
     "execution_count": 34,
     "metadata": {},
     "output_type": "execute_result"
    }
   ],
   "source": [
    "df[\"date\"]"
   ]
  },
  {
   "cell_type": "code",
   "execution_count": null,
   "id": "bdcb7587",
   "metadata": {},
   "outputs": [],
   "source": []
  }
 ],
 "metadata": {
  "kernelspec": {
   "display_name": "Python 3 (ipykernel)",
   "language": "python",
   "name": "python3"
  },
  "language_info": {
   "codemirror_mode": {
    "name": "ipython",
    "version": 3
   },
   "file_extension": ".py",
   "mimetype": "text/x-python",
   "name": "python",
   "nbconvert_exporter": "python",
   "pygments_lexer": "ipython3",
   "version": "3.10.2"
  }
 },
 "nbformat": 4,
 "nbformat_minor": 5
}
